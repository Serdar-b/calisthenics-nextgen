{
 "cells": [
  {
   "cell_type": "code",
   "execution_count": 2,
   "metadata": {},
   "outputs": [
    {
     "name": "stdout",
     "output_type": "stream",
     "text": [
      "Requirement already satisfied: mediapipe in c:\\users\\eblresu\\appdata\\local\\programs\\python\\python311\\lib\\site-packages (0.10.11)\n",
      "Collecting opencv-python\n",
      "  Obtaining dependency information for opencv-python from https://files.pythonhosted.org/packages/c7/ec/9dabb6a9abfdebb3c45b0cc52dec901caafef2b2c7e7d6a839ed86d81e91/opencv_python-4.9.0.80-cp37-abi3-win_amd64.whl.metadata\n",
      "  Downloading opencv_python-4.9.0.80-cp37-abi3-win_amd64.whl.metadata (20 kB)\n",
      "Requirement already satisfied: pandas in c:\\users\\eblresu\\appdata\\local\\programs\\python\\python311\\lib\\site-packages (2.2.1)\n",
      "Requirement already satisfied: scikit-learn in c:\\users\\eblresu\\appdata\\local\\programs\\python\\python311\\lib\\site-packages (1.4.1.post1)\n",
      "Requirement already satisfied: absl-py in c:\\users\\eblresu\\appdata\\local\\programs\\python\\python311\\lib\\site-packages (from mediapipe) (2.1.0)\n",
      "Requirement already satisfied: attrs>=19.1.0 in c:\\users\\eblresu\\appdata\\local\\programs\\python\\python311\\lib\\site-packages (from mediapipe) (23.2.0)\n",
      "Requirement already satisfied: flatbuffers>=2.0 in c:\\users\\eblresu\\appdata\\local\\programs\\python\\python311\\lib\\site-packages (from mediapipe) (24.3.25)\n",
      "Requirement already satisfied: jax in c:\\users\\eblresu\\appdata\\local\\programs\\python\\python311\\lib\\site-packages (from mediapipe) (0.4.26)\n",
      "Requirement already satisfied: matplotlib in c:\\users\\eblresu\\appdata\\local\\programs\\python\\python311\\lib\\site-packages (from mediapipe) (3.8.4)\n",
      "Requirement already satisfied: numpy in c:\\users\\eblresu\\appdata\\local\\programs\\python\\python311\\lib\\site-packages (from mediapipe) (1.26.4)\n",
      "Requirement already satisfied: opencv-contrib-python in c:\\users\\eblresu\\appdata\\local\\programs\\python\\python311\\lib\\site-packages (from mediapipe) (4.9.0.80)\n",
      "Requirement already satisfied: protobuf<4,>=3.11 in c:\\users\\eblresu\\appdata\\local\\programs\\python\\python311\\lib\\site-packages (from mediapipe) (3.20.3)\n",
      "Requirement already satisfied: sounddevice>=0.4.4 in c:\\users\\eblresu\\appdata\\local\\programs\\python\\python311\\lib\\site-packages (from mediapipe) (0.4.6)\n",
      "Requirement already satisfied: python-dateutil>=2.8.2 in c:\\users\\eblresu\\appdata\\local\\programs\\python\\python311\\lib\\site-packages (from pandas) (2.9.0.post0)\n",
      "Requirement already satisfied: pytz>=2020.1 in c:\\users\\eblresu\\appdata\\local\\programs\\python\\python311\\lib\\site-packages (from pandas) (2024.1)\n",
      "Requirement already satisfied: tzdata>=2022.7 in c:\\users\\eblresu\\appdata\\local\\programs\\python\\python311\\lib\\site-packages (from pandas) (2024.1)\n",
      "Requirement already satisfied: scipy>=1.6.0 in c:\\users\\eblresu\\appdata\\local\\programs\\python\\python311\\lib\\site-packages (from scikit-learn) (1.13.0)\n",
      "Requirement already satisfied: joblib>=1.2.0 in c:\\users\\eblresu\\appdata\\local\\programs\\python\\python311\\lib\\site-packages (from scikit-learn) (1.3.2)\n",
      "Requirement already satisfied: threadpoolctl>=2.0.0 in c:\\users\\eblresu\\appdata\\local\\programs\\python\\python311\\lib\\site-packages (from scikit-learn) (3.4.0)\n",
      "Requirement already satisfied: six>=1.5 in c:\\users\\eblresu\\appdata\\local\\programs\\python\\python311\\lib\\site-packages (from python-dateutil>=2.8.2->pandas) (1.16.0)\n",
      "Requirement already satisfied: CFFI>=1.0 in c:\\users\\eblresu\\appdata\\local\\programs\\python\\python311\\lib\\site-packages (from sounddevice>=0.4.4->mediapipe) (1.16.0)\n",
      "Requirement already satisfied: ml-dtypes>=0.2.0 in c:\\users\\eblresu\\appdata\\local\\programs\\python\\python311\\lib\\site-packages (from jax->mediapipe) (0.4.0)\n",
      "Requirement already satisfied: opt-einsum in c:\\users\\eblresu\\appdata\\local\\programs\\python\\python311\\lib\\site-packages (from jax->mediapipe) (3.3.0)\n",
      "Requirement already satisfied: contourpy>=1.0.1 in c:\\users\\eblresu\\appdata\\local\\programs\\python\\python311\\lib\\site-packages (from matplotlib->mediapipe) (1.2.1)\n",
      "Requirement already satisfied: cycler>=0.10 in c:\\users\\eblresu\\appdata\\local\\programs\\python\\python311\\lib\\site-packages (from matplotlib->mediapipe) (0.12.1)\n",
      "Requirement already satisfied: fonttools>=4.22.0 in c:\\users\\eblresu\\appdata\\local\\programs\\python\\python311\\lib\\site-packages (from matplotlib->mediapipe) (4.50.0)\n",
      "Requirement already satisfied: kiwisolver>=1.3.1 in c:\\users\\eblresu\\appdata\\local\\programs\\python\\python311\\lib\\site-packages (from matplotlib->mediapipe) (1.4.5)\n",
      "Requirement already satisfied: packaging>=20.0 in c:\\users\\eblresu\\appdata\\local\\programs\\python\\python311\\lib\\site-packages (from matplotlib->mediapipe) (24.0)\n",
      "Requirement already satisfied: pillow>=8 in c:\\users\\eblresu\\appdata\\local\\programs\\python\\python311\\lib\\site-packages (from matplotlib->mediapipe) (10.3.0)\n",
      "Requirement already satisfied: pyparsing>=2.3.1 in c:\\users\\eblresu\\appdata\\local\\programs\\python\\python311\\lib\\site-packages (from matplotlib->mediapipe) (3.1.2)\n",
      "Requirement already satisfied: pycparser in c:\\users\\eblresu\\appdata\\local\\programs\\python\\python311\\lib\\site-packages (from CFFI>=1.0->sounddevice>=0.4.4->mediapipe) (2.22)\n",
      "Downloading opencv_python-4.9.0.80-cp37-abi3-win_amd64.whl (38.6 MB)\n",
      "   ---------------------------------------- 0.0/38.6 MB ? eta -:--:--\n",
      "   ---------------------------------------- 0.0/38.6 MB 991.0 kB/s eta 0:00:39\n",
      "   ---------------------------------------- 0.3/38.6 MB 3.8 MB/s eta 0:00:11\n",
      "   - -------------------------------------- 1.0/38.6 MB 7.8 MB/s eta 0:00:05\n",
      "   -- ------------------------------------- 2.3/38.6 MB 13.5 MB/s eta 0:00:03\n",
      "   ----- ---------------------------------- 4.9/38.6 MB 20.8 MB/s eta 0:00:02\n",
      "   ------ --------------------------------- 6.2/38.6 MB 23.4 MB/s eta 0:00:02\n",
      "   ------ --------------------------------- 6.2/38.6 MB 23.4 MB/s eta 0:00:02\n",
      "   ------- -------------------------------- 7.2/38.6 MB 19.2 MB/s eta 0:00:02\n",
      "   -------- ------------------------------- 8.4/38.6 MB 19.8 MB/s eta 0:00:02\n",
      "   --------- ------------------------------ 9.5/38.6 MB 20.3 MB/s eta 0:00:02\n",
      "   ----------- ---------------------------- 10.7/38.6 MB 25.1 MB/s eta 0:00:02\n",
      "   ------------ --------------------------- 11.6/38.6 MB 23.4 MB/s eta 0:00:02\n",
      "   ------------ --------------------------- 12.3/38.6 MB 21.8 MB/s eta 0:00:02\n",
      "   -------------- ------------------------- 14.2/38.6 MB 21.1 MB/s eta 0:00:02\n",
      "   ---------------- ----------------------- 15.8/38.6 MB 21.8 MB/s eta 0:00:02\n",
      "   ---------------- ----------------------- 15.8/38.6 MB 21.8 MB/s eta 0:00:02\n",
      "   ----------------- ---------------------- 16.5/38.6 MB 21.1 MB/s eta 0:00:02\n",
      "   ------------------ --------------------- 17.5/38.6 MB 20.5 MB/s eta 0:00:02\n",
      "   -------------------- ------------------- 19.3/38.6 MB 21.8 MB/s eta 0:00:01\n",
      "   -------------------- ------------------- 19.6/38.6 MB 21.1 MB/s eta 0:00:01\n",
      "   --------------------- ------------------ 20.6/38.6 MB 19.3 MB/s eta 0:00:01\n",
      "   ----------------------- ---------------- 22.6/38.6 MB 23.4 MB/s eta 0:00:01\n",
      "   ------------------------- -------------- 24.4/38.6 MB 23.4 MB/s eta 0:00:01\n",
      "   -------------------------- ------------- 25.6/38.6 MB 23.4 MB/s eta 0:00:01\n",
      "   --------------------------- ------------ 26.5/38.6 MB 26.2 MB/s eta 0:00:01\n",
      "   ------------------------------- -------- 30.4/38.6 MB 38.6 MB/s eta 0:00:01\n",
      "   --------------------------------- ------ 32.3/38.6 MB 40.9 MB/s eta 0:00:01\n",
      "   ----------------------------------- ---- 34.3/38.6 MB 40.9 MB/s eta 0:00:01\n",
      "   ------------------------------------- -- 35.8/38.6 MB 50.4 MB/s eta 0:00:01\n",
      "   -------------------------------------- - 37.2/38.6 MB 43.5 MB/s eta 0:00:01\n",
      "   -------------------------------------- - 37.5/38.6 MB 36.4 MB/s eta 0:00:01\n",
      "   ---------------------------------------  38.6/38.6 MB 32.8 MB/s eta 0:00:01\n",
      "   ---------------------------------------  38.6/38.6 MB 32.8 MB/s eta 0:00:01\n",
      "   ---------------------------------------  38.6/38.6 MB 32.8 MB/s eta 0:00:01\n",
      "   ---------------------------------------- 38.6/38.6 MB 21.1 MB/s eta 0:00:00\n",
      "Installing collected packages: opencv-python\n",
      "Note: you may need to restart the kernel to use updated packages.\n"
     ]
    },
    {
     "name": "stderr",
     "output_type": "stream",
     "text": [
      "ERROR: Could not install packages due to an OSError: [WinError 5] Access is denied: 'c:\\\\Users\\\\eblresu\\\\AppData\\\\Local\\\\Programs\\\\Python\\\\Python311\\\\Lib\\\\site-packages\\\\cv2\\\\cv2.pyd'\n",
      "Consider using the `--user` option or check the permissions.\n",
      "\n",
      "\n",
      "[notice] A new release of pip is available: 23.2.1 -> 24.0\n",
      "[notice] To update, run: python.exe -m pip install --upgrade pip\n"
     ]
    }
   ],
   "source": [
    "%pip install mediapipe opencv-python pandas scikit-learn"
   ]
  },
  {
   "cell_type": "markdown",
   "metadata": {},
   "source": [
    "# Create and Export Video"
   ]
  },
  {
   "cell_type": "markdown",
   "metadata": {},
   "source": [
    "Choose video to export or create a new one"
   ]
  },
  {
   "cell_type": "code",
   "execution_count": 9,
   "metadata": {},
   "outputs": [],
   "source": [
    "import cv2\n",
    "\n",
    "VIDEO_PATH = './videos/pushupsDOWN.mp4'"
   ]
  },
  {
   "cell_type": "code",
   "execution_count": 11,
   "metadata": {},
   "outputs": [],
   "source": [
    "cap = cv2.VideoCapture(0)\n",
    "\n",
    "height = int(cap.get(cv2.CAP_PROP_FRAME_HEIGHT))\n",
    "width = int(cap.get(cv2.CAP_PROP_FRAME_WIDTH))\n",
    "fps = cap.get(cv2.CAP_PROP_FPS)\n",
    "\n",
    "fourcc = cv2.VideoWriter_fourcc(*'mp4v')\n",
    "videoWriter = cv2.VideoWriter(VIDEO_PATH, fourcc, fps, (width, height))\n",
    "\n",
    "while cap.isOpened():\n",
    "    ret, frame = cap.read()\n",
    "    \n",
    "    try:\n",
    "        cv2.imshow('Video', frame)\n",
    "        videoWriter.write(frame)\n",
    "    except Exception as e:\n",
    "        break\n",
    "    \n",
    "    if cv2.waitKey(10) & 0xFF == ord('q'):\n",
    "        break\n",
    "        \n",
    "cap.release()\n",
    "videoWriter.release()\n",
    "cv2.destroyAllWindows()"
   ]
  },
  {
   "cell_type": "code",
   "execution_count": null,
   "metadata": {},
   "outputs": [],
   "source": []
  }
 ],
 "metadata": {
  "kernelspec": {
   "display_name": "Python 3",
   "language": "python",
   "name": "python3"
  },
  "language_info": {
   "codemirror_mode": {
    "name": "ipython",
    "version": 3
   },
   "file_extension": ".py",
   "mimetype": "text/x-python",
   "name": "python",
   "nbconvert_exporter": "python",
   "pygments_lexer": "ipython3",
   "version": "3.11.6"
  }
 },
 "nbformat": 4,
 "nbformat_minor": 2
}
